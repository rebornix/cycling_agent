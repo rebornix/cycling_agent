{
 "cells": [
  {
   "cell_type": "markdown",
   "id": "12651012",
   "metadata": {},
   "source": [
    "# Cycling Performance Analysis from GPX File\n",
    "\n",
    "This notebook analyzes cycling performance using GPS data from a GPX file. We will load, parse, and visualize the route, then calculate distance, elevation, speed, and time metrics."
   ]
  },
  {
   "cell_type": "markdown",
   "id": "dedc66b4",
   "metadata": {},
   "source": [
    "## 1. Load GPX File\n",
    "\n",
    "First, we'll load the contents of the GPX file (`Morning_Ride.gpx`)."
   ]
  },
  {
   "cell_type": "code",
   "execution_count": 1,
   "id": "66e17d10",
   "metadata": {},
   "outputs": [
    {
     "name": "stdout",
     "output_type": "stream",
     "text": [
      "<?xml version=\"1.0\" encoding=\"UTF-8\"?>\n",
      "<gpx xmlns:xsi=\"http://www.w3.org/2001/XMLSchema-instance\" xsi:schemaLocation=\"http://www.topografix.com/GPX/1/1 http://www.topografix.com/GPX/1/1/gpx.xsd http://www.garmin.com/xmlschemas/GpxExtensions/v3 http://www.garmin.com/xmlschemas/GpxExtensionsv3.xsd http://www.garmin.com/xmlschemas/TrackPointExtension/v1 http://www.garmin.com/xmlschemas/TrackPointExtensionv1.xsd\" creator=\"StravaGPX\" version=\"1.1\" xmlns=\"http://www.topografix.com/GPX/1/1\" xmlns:gpxtp\n"
     ]
    }
   ],
   "source": [
    "# Load the GPX file\n",
    "with open('Morning_Ride.gpx', 'r') as file:\n",
    "    gpx_data = file.read()\n",
    "\n",
    "# Display the first 500 characters to confirm loading\n",
    "print(gpx_data[:500])"
   ]
  },
  {
   "cell_type": "markdown",
   "id": "6eb1ff28",
   "metadata": {},
   "source": [
    "## 2. Parse GPX Data\n",
    "\n",
    "We'll use the `gpxpy` library to parse the GPX data and extract track points. If not installed, install it first."
   ]
  },
  {
   "cell_type": "code",
   "execution_count": null,
   "id": "84de6873",
   "metadata": {},
   "outputs": [],
   "source": [
    "import gpxpy\n",
    "\n",
    "gpx = gpxpy.parse(gpx_data)\n",
    "\n",
    "# Extract all track points\n",
    "track_points = []\n",
    "for track in gpx.tracks:\n",
    "    for segment in track.segments:\n",
    "        for point in segment.points:\n",
    "            track_points.append(point)\n",
    "\n",
    "print(f\"Extracted {len(track_points)} track points.\")\n",
    "# Show the first 3 points as a sample\n",
    "for pt in track_points[:3]:\n",
    "    print(f\"Lat: {pt.latitude}, Lon: {pt.longitude}, Ele: {pt.elevation}, Time: {pt.time}\")"
   ]
  }
 ],
 "metadata": {
  "kernelspec": {
   "display_name": "Python 3",
   "language": "python",
   "name": "python3"
  },
  "language_info": {
   "codemirror_mode": {
    "name": "ipython",
    "version": 3
   },
   "file_extension": ".py",
   "mimetype": "text/x-python",
   "name": "python",
   "nbconvert_exporter": "python",
   "pygments_lexer": "ipython3",
   "version": "3.13.3"
  }
 },
 "nbformat": 4,
 "nbformat_minor": 5
}
